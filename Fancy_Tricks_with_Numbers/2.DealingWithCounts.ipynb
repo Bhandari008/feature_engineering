{
 "cells": [
  {
   "cell_type": "markdown",
   "id": "b8f45470",
   "metadata": {},
   "source": [
    "# Counts\n",
    "\n",
    "In this age, we can find many examples for this type of features is being accumulated without any bound. \n",
    "\n",
    "For example:- the number of likes in Messi's world winning picture, number of users watching a live game streaming, number of times you visted ChatGPT and many more. With these values being counted at very high acceleration, it is sure that it will contain some extreme values. We can observe the scale of those values and then deal with these type of values using the following ways:\n",
    "\n",
    "* Leave as it is (I highly doubt this way)\n",
    "* Convert them to binary values to indicated presence\n",
    "* Bin the values"
   ]
  },
  {
   "cell_type": "markdown",
   "id": "25ae84b5",
   "metadata": {},
   "source": [
    "## Binarization"
   ]
  },
  {
   "cell_type": "code",
   "execution_count": null,
   "id": "fe8ce282",
   "metadata": {},
   "outputs": [],
   "source": []
  },
  {
   "cell_type": "markdown",
   "id": "8975a404",
   "metadata": {},
   "source": [
    "## Quantization or Binning"
   ]
  },
  {
   "cell_type": "code",
   "execution_count": null,
   "id": "bd3675eb",
   "metadata": {},
   "outputs": [],
   "source": []
  }
 ],
 "metadata": {
  "kernelspec": {
   "display_name": "Python 3 (ipykernel)",
   "language": "python",
   "name": "python3"
  },
  "language_info": {
   "codemirror_mode": {
    "name": "ipython",
    "version": 3
   },
   "file_extension": ".py",
   "mimetype": "text/x-python",
   "name": "python",
   "nbconvert_exporter": "python",
   "pygments_lexer": "ipython3",
   "version": "3.9.7"
  }
 },
 "nbformat": 4,
 "nbformat_minor": 5
}
